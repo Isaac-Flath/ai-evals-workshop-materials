{
 "cells": [
  {
   "cell_type": "code",
   "execution_count": 11,
   "metadata": {},
   "outputs": [],
   "source": [
    "import pandas as pd\n",
    "import json"
   ]
  },
  {
   "cell_type": "code",
   "execution_count": 41,
   "metadata": {},
   "outputs": [],
   "source": [
    "df = pd.read_csv(\"ds.csv\")\n",
    "\n",
    "from fasthtml.common import *\n",
    "\n",
    "df['example_id'] = [unqid() for _ in range(len(df))]\n",
    "df.to_csv(\"ds.csv\", index=False)"
   ]
  },
  {
   "cell_type": "code",
   "execution_count": null,
   "metadata": {},
   "outputs": [],
   "source": []
  },
  {
   "cell_type": "code",
   "execution_count": null,
   "metadata": {},
   "outputs": [],
   "source": []
  },
  {
   "cell_type": "code",
   "execution_count": 44,
   "metadata": {},
   "outputs": [
    {
     "ename": "SyntaxError",
     "evalue": "incomplete input (1019372316.py, line 4)",
     "output_type": "error",
     "traceback": [
      "  \u001b[36mCell\u001b[39m\u001b[36m \u001b[39m\u001b[32mIn[44]\u001b[39m\u001b[32m, line 4\u001b[39m\n\u001b[31m    \u001b[39m\u001b[31mdb.annotations([('_qu78DL7aRV_FcQw2eKZuYA', '1523479052793')]\u001b[39m\n                                                                 ^\n\u001b[31mSyntaxError\u001b[39m\u001b[31m:\u001b[39m incomplete input\n"
     ]
    }
   ],
   "source": [
    "from fasthtml.common import *\n",
    "from db import db, Annotation\n",
    "\n",
    "db.annotations[('_qu78DL7aRV_FcQw2eKZuYA', '1523479052793')]"
   ]
  },
  {
   "cell_type": "code",
   "execution_count": 42,
   "metadata": {},
   "outputs": [
    {
     "data": {
      "text/html": [
       "<div>\n",
       "<style scoped>\n",
       "    .dataframe tbody tr th:only-of-type {\n",
       "        vertical-align: middle;\n",
       "    }\n",
       "\n",
       "    .dataframe tbody tr th {\n",
       "        vertical-align: top;\n",
       "    }\n",
       "\n",
       "    .dataframe thead th {\n",
       "        text-align: right;\n",
       "    }\n",
       "</style>\n",
       "<table border=\"1\" class=\"dataframe\">\n",
       "  <thead>\n",
       "    <tr style=\"text-align: right;\">\n",
       "      <th></th>\n",
       "      <th>example_id</th>\n",
       "      <th>input</th>\n",
       "      <th>output</th>\n",
       "    </tr>\n",
       "  </thead>\n",
       "  <tbody>\n",
       "    <tr>\n",
       "      <th>0</th>\n",
       "      <td>_qu78DL7aRV_FcQw2eKZuYA</td>\n",
       "      <td>propofol</td>\n",
       "      <td>[{'anki_id': 1523479052793, 'document': 'Becau...</td>\n",
       "    </tr>\n",
       "    <tr>\n",
       "      <th>1</th>\n",
       "      <td>_3ACYU4I_RHGgf9e3OyUalg</td>\n",
       "      <td>B. Cysticfibrosis\\nCF is the most common letha...</td>\n",
       "      <td>[{'anki_id': 1473628185048, 'document': 'Bronc...</td>\n",
       "    </tr>\n",
       "    <tr>\n",
       "      <th>2</th>\n",
       "      <td>_E3KsxAzyQ4afzWn7boa-tg</td>\n",
       "      <td>Coenzyme Q</td>\n",
       "      <td>[{'anki_id': 1474253461870, 'document': 'Elect...</td>\n",
       "    </tr>\n",
       "    <tr>\n",
       "      <th>3</th>\n",
       "      <td>_LiD2Ax0sSkCedEzg9Vricw</td>\n",
       "      <td>downstream PDH</td>\n",
       "      <td>[{'anki_id': 1474224602587, 'document': 'Pyruv...</td>\n",
       "    </tr>\n",
       "    <tr>\n",
       "      <th>4</th>\n",
       "      <td>_DfBatCt7T3_-0RTM9Zwj0w</td>\n",
       "      <td>Iga Vasculitis</td>\n",
       "      <td>[{'anki_id': 1471797120815, 'document': 'Vascu...</td>\n",
       "    </tr>\n",
       "    <tr>\n",
       "      <th>5</th>\n",
       "      <td>_N223NfesQ-uoC7veKYLnBg</td>\n",
       "      <td>Biochemestry lipids</td>\n",
       "      <td>[{'anki_id': 1461875856182, 'document': 'What ...</td>\n",
       "    </tr>\n",
       "    <tr>\n",
       "      <th>6</th>\n",
       "      <td>_pFRIKgAGTOavY04Z6hbB-w</td>\n",
       "      <td>Explain the clinical symptoms and signs of hea...</td>\n",
       "      <td>[{'anki_id': 1556984330180, 'document': 'For s...</td>\n",
       "    </tr>\n",
       "    <tr>\n",
       "      <th>7</th>\n",
       "      <td>_JmkNCk0xR62sS2lhSTanqQ</td>\n",
       "      <td>https://drive.google.com/file/d/1xLJik0uCLOzS5...</td>\n",
       "      <td>[{'anki_id': 1474164871257, 'document': '1,3-b...</td>\n",
       "    </tr>\n",
       "    <tr>\n",
       "      <th>8</th>\n",
       "      <td>_Tw96eygpQvuhSD5JnjIAKA</td>\n",
       "      <td>00:00DR. JASON RYAN\\nHello, everyone, and welc...</td>\n",
       "      <td>[{'anki_id': 1497732761695, 'document': 'Manag...</td>\n",
       "    </tr>\n",
       "    <tr>\n",
       "      <th>9</th>\n",
       "      <td>_saxntih1RgyxTq6b-y9YUw</td>\n",
       "      <td>### I. **Embryology of the Integument**\\n\\n###...</td>\n",
       "      <td>[{'anki_id': 1500052444077.0, 'document': 'Tin...</td>\n",
       "    </tr>\n",
       "    <tr>\n",
       "      <th>10</th>\n",
       "      <td>_dC2BpQGuQY6PWaQBtk4ghA</td>\n",
       "      <td>Psoriatic arthritis is a chronic inflammatory ...</td>\n",
       "      <td>[{'anki_id': 1488248110300.0, 'document': 'Pso...</td>\n",
       "    </tr>\n",
       "    <tr>\n",
       "      <th>11</th>\n",
       "      <td>_1bTWvyi0S_S5FZxwTrtc-A</td>\n",
       "      <td>https://app.ankihub.net/ai/file-search/input-f...</td>\n",
       "      <td>[{'anki_id': 1474165442168.0, 'document': 'Fru...</td>\n",
       "    </tr>\n",
       "    <tr>\n",
       "      <th>12</th>\n",
       "      <td>_sY5UvQxcQpaTKrOIxsWV-g</td>\n",
       "      <td>https://app.ankihub.net/ai/file-search/input-f...</td>\n",
       "      <td>[{'anki_id': 1496164062309, 'document': 'Norma...</td>\n",
       "    </tr>\n",
       "    <tr>\n",
       "      <th>13</th>\n",
       "      <td>_QCdyrFUSS-uUUSF3PVqGog</td>\n",
       "      <td>https://app.ankihub.net/ai/file-search/input-f...</td>\n",
       "      <td>[{'anki_id': 1509449043151.0, 'document': 'Wha...</td>\n",
       "    </tr>\n",
       "    <tr>\n",
       "      <th>14</th>\n",
       "      <td>_hD-D3aRzSyCPc0Hhx5wgIg</td>\n",
       "      <td>https://app.ankihub.net/ai/file-search/input-f...</td>\n",
       "      <td>[{'anki_id': 1461601445180.0, 'document': 'Sid...</td>\n",
       "    </tr>\n",
       "    <tr>\n",
       "      <th>15</th>\n",
       "      <td>_FzVY32LsQ3uojQJ1uJKEZQ</td>\n",
       "      <td>After completing this brick, you will be able ...</td>\n",
       "      <td>[{'anki_id': 1481418796366.0, 'document': 'The...</td>\n",
       "    </tr>\n",
       "    <tr>\n",
       "      <th>16</th>\n",
       "      <td>_3Kg5k8nWRNqfMkgHJZ0gag</td>\n",
       "      <td>https://app.ankihub.net/ai/file-search/input-f...</td>\n",
       "      <td>[{'anki_id': 1522424264465, 'document': 'Triaz...</td>\n",
       "    </tr>\n",
       "    <tr>\n",
       "      <th>17</th>\n",
       "      <td>__TlDWBjrQuCVXmDhmMOevA</td>\n",
       "      <td>Shape: Single, circular, double-stranded, and ...</td>\n",
       "      <td>[{'anki_id': 1508430090586.0, 'document': 'Whi...</td>\n",
       "    </tr>\n",
       "    <tr>\n",
       "      <th>18</th>\n",
       "      <td>_pVfAS9xVRtW3MyebsjASqA</td>\n",
       "      <td>2. A 10-year-old boy who was adopted from the ...</td>\n",
       "      <td>[{'anki_id': 1504652342629.0, 'document': 'Wha...</td>\n",
       "    </tr>\n",
       "    <tr>\n",
       "      <th>19</th>\n",
       "      <td>_xZDEG4jNQFi6MMxXAywLAw</td>\n",
       "      <td>STATIN INDUCED MYOPATHY</td>\n",
       "      <td>[{'anki_id': 1472668562134.0, 'document': 'All...</td>\n",
       "    </tr>\n",
       "  </tbody>\n",
       "</table>\n",
       "</div>"
      ],
      "text/plain": [
       "                 example_id  \\\n",
       "0   _qu78DL7aRV_FcQw2eKZuYA   \n",
       "1   _3ACYU4I_RHGgf9e3OyUalg   \n",
       "2   _E3KsxAzyQ4afzWn7boa-tg   \n",
       "3   _LiD2Ax0sSkCedEzg9Vricw   \n",
       "4   _DfBatCt7T3_-0RTM9Zwj0w   \n",
       "5   _N223NfesQ-uoC7veKYLnBg   \n",
       "6   _pFRIKgAGTOavY04Z6hbB-w   \n",
       "7   _JmkNCk0xR62sS2lhSTanqQ   \n",
       "8   _Tw96eygpQvuhSD5JnjIAKA   \n",
       "9   _saxntih1RgyxTq6b-y9YUw   \n",
       "10  _dC2BpQGuQY6PWaQBtk4ghA   \n",
       "11  _1bTWvyi0S_S5FZxwTrtc-A   \n",
       "12  _sY5UvQxcQpaTKrOIxsWV-g   \n",
       "13  _QCdyrFUSS-uUUSF3PVqGog   \n",
       "14  _hD-D3aRzSyCPc0Hhx5wgIg   \n",
       "15  _FzVY32LsQ3uojQJ1uJKEZQ   \n",
       "16  _3Kg5k8nWRNqfMkgHJZ0gag   \n",
       "17  __TlDWBjrQuCVXmDhmMOevA   \n",
       "18  _pVfAS9xVRtW3MyebsjASqA   \n",
       "19  _xZDEG4jNQFi6MMxXAywLAw   \n",
       "\n",
       "                                                input  \\\n",
       "0                                            propofol   \n",
       "1   B. Cysticfibrosis\\nCF is the most common letha...   \n",
       "2                                          Coenzyme Q   \n",
       "3                                      downstream PDH   \n",
       "4                                      Iga Vasculitis   \n",
       "5                                 Biochemestry lipids   \n",
       "6   Explain the clinical symptoms and signs of hea...   \n",
       "7   https://drive.google.com/file/d/1xLJik0uCLOzS5...   \n",
       "8   00:00DR. JASON RYAN\\nHello, everyone, and welc...   \n",
       "9   ### I. **Embryology of the Integument**\\n\\n###...   \n",
       "10  Psoriatic arthritis is a chronic inflammatory ...   \n",
       "11  https://app.ankihub.net/ai/file-search/input-f...   \n",
       "12  https://app.ankihub.net/ai/file-search/input-f...   \n",
       "13  https://app.ankihub.net/ai/file-search/input-f...   \n",
       "14  https://app.ankihub.net/ai/file-search/input-f...   \n",
       "15  After completing this brick, you will be able ...   \n",
       "16  https://app.ankihub.net/ai/file-search/input-f...   \n",
       "17  Shape: Single, circular, double-stranded, and ...   \n",
       "18  2. A 10-year-old boy who was adopted from the ...   \n",
       "19                            STATIN INDUCED MYOPATHY   \n",
       "\n",
       "                                               output  \n",
       "0   [{'anki_id': 1523479052793, 'document': 'Becau...  \n",
       "1   [{'anki_id': 1473628185048, 'document': 'Bronc...  \n",
       "2   [{'anki_id': 1474253461870, 'document': 'Elect...  \n",
       "3   [{'anki_id': 1474224602587, 'document': 'Pyruv...  \n",
       "4   [{'anki_id': 1471797120815, 'document': 'Vascu...  \n",
       "5   [{'anki_id': 1461875856182, 'document': 'What ...  \n",
       "6   [{'anki_id': 1556984330180, 'document': 'For s...  \n",
       "7   [{'anki_id': 1474164871257, 'document': '1,3-b...  \n",
       "8   [{'anki_id': 1497732761695, 'document': 'Manag...  \n",
       "9   [{'anki_id': 1500052444077.0, 'document': 'Tin...  \n",
       "10  [{'anki_id': 1488248110300.0, 'document': 'Pso...  \n",
       "11  [{'anki_id': 1474165442168.0, 'document': 'Fru...  \n",
       "12  [{'anki_id': 1496164062309, 'document': 'Norma...  \n",
       "13  [{'anki_id': 1509449043151.0, 'document': 'Wha...  \n",
       "14  [{'anki_id': 1461601445180.0, 'document': 'Sid...  \n",
       "15  [{'anki_id': 1481418796366.0, 'document': 'The...  \n",
       "16  [{'anki_id': 1522424264465, 'document': 'Triaz...  \n",
       "17  [{'anki_id': 1508430090586.0, 'document': 'Whi...  \n",
       "18  [{'anki_id': 1504652342629.0, 'document': 'Wha...  \n",
       "19  [{'anki_id': 1472668562134.0, 'document': 'All...  "
      ]
     },
     "execution_count": 42,
     "metadata": {},
     "output_type": "execute_result"
    }
   ],
   "source": [
    "df = pd.read_csv(\"ds.csv\")\n",
    "# df = df[['example_id','input', 'output']]\n",
    "# df['input'] = df['input'].apply(lambda x: eval(x)['query'])\n",
    "# df['output'] = df['output'].apply(lambda x: eval(x)['documents'])\n",
    "# df.to_csv(\"ds.csv\", index=False)\n",
    "df"
   ]
  },
  {
   "cell_type": "code",
   "execution_count": 35,
   "metadata": {},
   "outputs": [
    {
     "data": {
      "text/plain": [
       "<function fasthtml.fastapp.fast_app(db_file: Optional[str] = None, render: Optional[<built-in function callable>] = None, hdrs: Optional[tuple] = None, ftrs: Optional[tuple] = None, tbls: Optional[dict] = None, before: Union[tuple, NoneType, fasthtml.core.Beforeware] = None, middleware: Optional[tuple] = None, live: bool = False, debug: bool = False, routes: Optional[tuple] = None, exception_handlers: Optional[dict] = None, on_startup: Optional[<built-in function callable>] = None, on_shutdown: Optional[<built-in function callable>] = None, lifespan: Optional[<built-in function callable>] = None, default_hdrs=True, pico: Optional[bool] = None, surreal: Optional[bool] = True, htmx: Optional[bool] = True, exts: Union[list, str, NoneType] = None, secret_key: Optional[str] = None, key_fname: str = '.sesskey', session_cookie: str = 'session_', max_age: int = 31536000, sess_path: str = '/', same_site: str = 'lax', sess_https_only: bool = False, sess_domain: Optional[str] = None, htmlkw: Optional[dict] = None, bodykw: Optional[dict] = None, reload_attempts: Optional[int] = 1, reload_interval: Optional[int] = 1000, static_path: str = '.', body_wrap: <built-in function callable> = <function noop_body at 0x141214720>, nb_hdrs: bool = False, **kwargs) -> Any>"
      ]
     },
     "execution_count": 35,
     "metadata": {},
     "output_type": "execute_result"
    }
   ],
   "source": [
    "from fasthtml.common import *\n",
    "fast_app"
   ]
  },
  {
   "cell_type": "code",
   "execution_count": 22,
   "metadata": {},
   "outputs": [
    {
     "data": {
      "text/plain": [
       "{'query': 'propofol'}"
      ]
     },
     "execution_count": 22,
     "metadata": {},
     "output_type": "execute_result"
    }
   ],
   "source": [
    "a = eval(\"{'query': 'propofol'}\")\n",
    "a"
   ]
  },
  {
   "cell_type": "code",
   "execution_count": null,
   "metadata": {},
   "outputs": [],
   "source": []
  }
 ],
 "metadata": {
  "kernelspec": {
   "display_name": ".venv",
   "language": "python",
   "name": "python3"
  },
  "language_info": {
   "codemirror_mode": {
    "name": "ipython",
    "version": 3
   },
   "file_extension": ".py",
   "mimetype": "text/x-python",
   "name": "python",
   "nbconvert_exporter": "python",
   "pygments_lexer": "ipython3",
   "version": "3.12.8"
  }
 },
 "nbformat": 4,
 "nbformat_minor": 2
}
